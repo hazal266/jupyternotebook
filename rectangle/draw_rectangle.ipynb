{
 "cells": [
  {
   "cell_type": "code",
   "execution_count": 7,
   "id": "bc8d91b0-ad8a-4d7b-810e-c164e55f6efd",
   "metadata": {},
   "outputs": [
    {
     "name": "stdin",
     "output_type": "stream",
     "text": [
      "Dikdörtgenin genişliğini girin:  7\n",
      "Dikdörtgenin yüksekliğini girin:  20\n"
     ]
    },
    {
     "data": {
      "image/png": "[encoded data removed]",
      "text/plain": [
       "<Figure size 640x480 with 1 Axes>"
      ]
     },
     "metadata": {},
     "output_type": "display_data"
    }
   ],
   "source": [
    "import matplotlib.pyplot as plt\n",
    "#def: Python'da fonksiyon tanımlamak için kullanılan anahtar kelimedir. Bu, belirli bir işlemi tekrar kullanmak için fonksiyon oluşturmanızı sağlar.\n",
    "#draw_rectangle: Bu, oluşturduğumuz fonksiyonun adıdır. Bu fonksiyon, verilen genişlik ve yükseklikte dikdörtgen çizecek.\n",
    "def draw_rectangle(width, height):\n",
    "    # Dikdörtgenin çizimi için dörtgenin köşe noktalarını hesapla\n",
    "    # fig: Bu, tüm çizimi kapsayan figür (grafik) nesnesidir.\n",
    "    #fig:Bir grafikteki tüm öğeleri kapsar, arka plan rengini, başlığı, etiketleri ve diğer genel özellikleri içerir.\n",
    "    #ax: Bu, eksen (axes) nesnesidir. Grafik üzerindeki her şey (örneğin çizilen dikdörtgen) bu eksen üzerinde yer alır. \n",
    "    #ax:X ve Y eksenlerini tanımlar ve çizimleri üzerine ekleriz.\n",
    "    fig, ax = plt.subplots()\n",
    "\n",
    "    #ax.add_patch(): Bu fonksiyon, eksene bir şekil ekler. Burada, dikdörtgeni eksene ekliyoruz.\n",
    "    #plt.Rectangle(): Bu, matplotlib'te dikdörtgen oluşturmak için kullanılan fonksiyondur.\n",
    "    #(0, 0): Dikdörtgenin başlangıç noktasını belirtir. (0, 0) burada dikdörtgenin sol alt köşesini (x=0, y=0) ifade eder.\n",
    "    #Yani dikdörtgenin sol alt köşesi bu noktada başlar.\n",
    "    #width, height: Bu, dikdörtgenin genişlik ve yüksekliğini belirler.\n",
    "    #fill=None: Dikdörtgenin içini doldurmamayı ifade eder. Eğer fill='blue' gibi bir şey yazsaydık, içi mavi renkle dolardı.\n",
    "    #edgecolor=\"blue\": Dikdörtgenin kenar çizgilerinin rengini mavi yapar.\n",
    "    #linewidth=2: Dikdörtgenin kenar çizgilerinin kalınlığını belirler. 2, orta derecede kalın bir kenar çizgisi anlamına gelir.\n",
    "    \n",
    "    # Dikdörtgen çizimi\n",
    "    ax.add_patch(plt.Rectangle((0, 0), width, height, fill=None, edgecolor=\"blue\", linewidth=2))\n",
    "    #ax.set_xlim(): Bu, grafikteki X ekseninin sınırlarını belirler. Yani, yatay eksenin hangi aralıkta çizileceğini ayarlıyoruz.\n",
    "    #0 ile width+1 arasında olacak şekilde sınırları ayarlıyoruz. Bu, dikdörtgenin tamamını görmek için biraz boşluk bırakmamıza yardımcı olur.\n",
    "    #ax.set_ylim(): Y ekseni için aynı işlemi yapıyoruz.\n",
    "    #Dikdörtgenin yüksekliğine göre, yukarıdaki sınırı height + 1 olarak ayarlıyoruz ki dikdörtgenin üst kısmı görünür olsun.\n",
    "\n",
    "    \n",
    "    # Eksenlerin sınırlarını dikdörtgenin boyutlarına göre ayarlama\n",
    "    ax.set_xlim(0, width + 1)\n",
    "    ax.set_ylim(0, height + 1)\n",
    "\n",
    "    #set_title(): Bu fonksiyon, grafiğin başlığını ayarlamak için kullanılır. Burada başlık olarak \"Dikdörtgen\" yazılmıştır.\n",
    "    #set_xlabel(): Bu fonksiyon, X eksenine bir etiket ekler. Burada \"Genişlik\" etiketi, yatay eksenin anlamını belirtir.\n",
    "    #set_ylabel(): Y eksenine bir etiket ekler. \"Yükseklik\" etiketi, dikey eksenin anlamını belirtir.\n",
    "\n",
    "    # Başlık ve eksen etiketleri\n",
    "    ax.set_title(\"Dikdörtgen\")\n",
    "    ax.set_xlabel(\"Genişlik\")\n",
    "    ax.set_ylabel(\"Yükseklik\")\n",
    "\n",
    "    #plt.gca(): Bu fonksiyon, mevcut eksenleri (axes) alır. Yani, en son oluşturduğumuz ax nesnesine erişiriz.\n",
    "    #set_aspect('equal'): Bu, X ve Y eksenlerinin aynı oranda olmasını sağlar. Yani dikdörtgen gerçekten dikdörtgen olur, bozulmaz. \n",
    "    #Eğer bu ayar yapılmazsa, eksenler farklı oranlarda olabilir ve dikdörtgenin şekli bozulabilir.\n",
    "    #adjustable='box': Bu, eksenlerin ayarlarının kutu şeklinde yapılmasını sağlar, yani her iki eksen de aynı oranda genişler ve şekil bozulmaz.\n",
    "\n",
    "    #plt.grid(True): Bu, grafikte bir ızgara (grid) ekler. Bu, dikdörtgeni daha iyi konumlandırmak ve gözlemler yapmak için yardımcı olabilir.\n",
    "    #plt.show(): Bu fonksiyon, oluşturduğumuz grafiği ekranda gösterir. Eğer bu fonksiyon çağrılmazsa, grafik ekranda görünmez.\n",
    "\n",
    "    \n",
    "    plt.gca().set_aspect('equal', adjustable='box')  # Eksen oranlarını eşit tut\n",
    "    plt.grid(True)  # Izgara göster\n",
    "    plt.show()\n",
    "\n",
    "\n",
    "#width = float(input(\"Dikdörtgenin genişliğini girin: \")): Bu satırda kullanıcıdan dikdörtgenin genişliğini istiyoruz.\n",
    "#Kullanıcının girdiği değer bir string (metin) olduğu için, float() fonksiyonu ile bu değeri sayıya (ondalıklı sayıya) çeviriyoruz.\n",
    "#height = float(input(\"Dikdörtgenin yüksekliğini girin: \")): Aynı şekilde, dikdörtgenin yüksekliğini de kullanıcıdan alıyoruz.\n",
    "\n",
    "# Kullanıcıdan genişlik ve yükseklik al\n",
    "width = float(input(\"Dikdörtgenin genişliğini girin: \"))\n",
    "height = float(input(\"Dikdörtgenin yüksekliğini girin: \"))\n",
    "\n",
    "# Dikdörtgeni çiz\n",
    "draw_rectangle(width, height)\n"
   ]
  },
  {
   "cell_type": "code",
   "execution_count": null,
   "id": "3ce052d0-6c83-4897-9655-e234c00a5f9b",
   "metadata": {},
   "outputs": [],
   "source": []
  }
 ],
 "metadata": {
  "kernelspec": {
   "display_name": "Python 3 (ipykernel)",
   "language": "python",
   "name": "python3"
  },
  "language_info": {
   "codemirror_mode": {
    "name": "ipython",
    "version": 3
   },
   "file_extension": ".py",
   "mimetype": "text/x-python",
   "name": "python",
   "nbconvert_exporter": "python",
   "pygments_lexer": "ipython3",
   "version": "3.12.7"
  }
 },
 "nbformat": 4,
 "nbformat_minor": 5
}
